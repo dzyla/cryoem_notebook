{
 "cells": [
  {
   "cell_type": "code",
   "execution_count": null,
   "outputs": [],
   "source": [
    "try:\n",
    "    import mrcfile, gemmi, numpy, pandas, IPython, matplotlib, ipywidgets, plotly, skimage, scipy, requests\n",
    "\n",
    "except ImportError:\n",
    "    !pip install mrcfile gemmi pandas IPython matplotlib ipywidgets plotly scikit-image\n",
    "\n",
    "\n",
    "%matplotlib inline\n",
    "import ipywidgets as widgets\n",
    "from ipywidgets import interact, interactive, IntSlider, Layout, interact_manual\n",
    "\n",
    "# Change width of the cells\n",
    "from IPython.display import HTML, display\n",
    "display(HTML(\"<style>.container { width:80% !important; }</style>\"))\n",
    "\n",
    "from cryoem_notebook_lib import *"
   ],
   "metadata": {
    "collapsed": false,
    "pycharm": {
     "name": "#%%\n"
    }
   }
  },
  {
   "cell_type": "markdown",
   "source": [
    "# Setup Relion folder path"
   ],
   "metadata": {
    "collapsed": false,
    "pycharm": {
     "name": "#%% md\n"
    }
   }
  },
  {
   "cell_type": "code",
   "execution_count": null,
   "outputs": [],
   "source": [
    "data_folder = \"f:\\linux\\\\relion40_tutorial_precalculated_results\\\\\""
   ],
   "metadata": {
    "collapsed": false,
    "pycharm": {
     "name": "#%%\n"
    }
   }
  },
  {
   "cell_type": "markdown",
   "source": [
    "# Plot aquisition time of the micrographs"
   ],
   "metadata": {
    "collapsed": false,
    "pycharm": {
     "name": "#%% md\n"
    }
   }
  },
  {
   "cell_type": "code",
   "execution_count": null,
   "outputs": [],
   "source": [
    "img_paths = glob.glob('f:\\linux\\\\relion40_tutorial_precalculated_results\\MotionCorr\\job002\\Movies\\*.mrc')\n",
    "\n",
    "plot_import(data_folder, 'job001')"
   ],
   "metadata": {
    "collapsed": false,
    "pycharm": {
     "name": "#%%\n"
    }
   }
  },
  {
   "cell_type": "markdown",
   "source": [
    "# MotionCorr job stats"
   ],
   "metadata": {
    "collapsed": false,
    "pycharm": {
     "name": "#%% md\n"
    }
   }
  },
  {
   "cell_type": "code",
   "execution_count": null,
   "outputs": [],
   "source": [
    "plot_motioncorr(data_folder+'//MotionCorr/job002/corrected_micrographs.star', 80)"
   ],
   "metadata": {
    "collapsed": false,
    "pycharm": {
     "name": "#%%\n"
    }
   }
  },
  {
   "cell_type": "markdown",
   "source": [
    "# Live preview of micrographs after MotionCorr"
   ],
   "metadata": {
    "collapsed": false,
    "pycharm": {
     "name": "#%% md\n"
    }
   }
  },
  {
   "cell_type": "code",
   "execution_count": null,
   "outputs": [],
   "source": [
    "img_paths = glob.glob(data_folder+'MotionCorr/job002/Movies/*.mrc')\n",
    "\n",
    "ls = []\n",
    "for file in img_paths:\n",
    "    if not 'PS.mrc' in file:\n",
    "        ls.append(file)\n",
    "img_paths = ls\n",
    "\n",
    "p=interactive(show_mrc_fft, n=widgets.IntSlider(min=0, max=len(img_paths)-1, step=1, value=0), \n",
    "              r=(0.05,1,0.05),\n",
    "             datapath={'Images paths': img_paths},\n",
    "              fft=widgets.Checkbox(value=False, description='Show FFT Abs')\n",
    "             )\n",
    "display(p)\n",
    "show_mrc_fft(n=1, r=0.5, datapath=img_paths, blur=True, filter_intensity=1)\n",
    "show_mrc_fft(n=5, r=0.5, datapath=img_paths, blur=True, filter_intensity=1)\n",
    "show_mrc_fft(n=10, r=0.5, datapath=img_paths, blur=True, filter_intensity=1)\n"
   ],
   "metadata": {
    "collapsed": false,
    "pycharm": {
     "name": "#%%\n"
    }
   }
  },
  {
   "cell_type": "code",
   "execution_count": null,
   "outputs": [],
   "source": [
    "# CtfFind job stats"
   ],
   "metadata": {
    "collapsed": false,
    "pycharm": {
     "name": "#%%\n"
    }
   }
  },
  {
   "cell_type": "code",
   "execution_count": null,
   "outputs": [],
   "source": [
    "ctffind = parse_star_whole(data_folder+'/CtfFind/job003/micrographs_ctf.star'.format(data_folder))\n",
    "\n",
    "p=interactive(plot_ctf_stats,\n",
    "              starctf={'Star file': ctffind},\n",
    "              index=widgets.IntRangeSlider(value=[0, 100]),\n",
    "              defocus=widgets.IntRangeSlider(value=[0, 100]),\n",
    "              max_res = widgets.IntRangeSlider(value=[0, 100]),\n",
    "              fom=widgets.IntRangeSlider(value=[0, 100]),\n",
    "              save_star=False\n",
    "             )\n",
    "display(p)\n",
    "\n",
    "plot_ctf_stats(ctffind, [0, 100], [0, 100], [0, 100], [0, 100], False);"
   ],
   "metadata": {
    "collapsed": false,
    "pycharm": {
     "name": "#%%\n"
    }
   }
  },
  {
   "cell_type": "markdown",
   "source": [
    "# Picking preview"
   ],
   "metadata": {
    "collapsed": false,
    "pycharm": {
     "name": "#%% md\n"
    }
   }
  },
  {
   "cell_type": "code",
   "execution_count": null,
   "outputs": [],
   "source": [
    "p=interactive(plot_picks_relion, \n",
    "              n=widgets.IntSlider(min=0, max=len(img_paths)-1, step=1, value=0), \n",
    "              r=(0.05,1,0.05),\n",
    "              rln_folder={'Images paths': data_folder},\n",
    "              score=widgets.IntRangeSlider(value=[0, 100]),\n",
    "              job_name={'Job': 'AutoPick/job006/'},\n",
    "             )\n",
    "\n",
    "display(p)\n",
    "\n",
    "plot_picks_relion(n=2, r=1, rln_folder=data_folder, score=[0,100], job_name='AutoPick/job006/')"
   ],
   "metadata": {
    "collapsed": false,
    "pycharm": {
     "name": "#%%\n"
    }
   }
  },
  {
   "cell_type": "markdown",
   "source": [
    "# Topaz training curve plotting with the hint for the best model"
   ],
   "metadata": {
    "collapsed": false,
    "pycharm": {
     "name": "#%% md\n"
    }
   }
  },
  {
   "cell_type": "code",
   "execution_count": null,
   "outputs": [],
   "source": [
    "load_topaz_curve(data_folder+'/AutoPick/job010/model_training.txt', True)"
   ],
   "metadata": {
    "collapsed": false,
    "pycharm": {
     "name": "#%%\n"
    }
   }
  },
  {
   "cell_type": "markdown",
   "source": [
    "# Preview of Autopick"
   ],
   "metadata": {
    "collapsed": false,
    "pycharm": {
     "name": "#%% md\n"
    }
   }
  },
  {
   "cell_type": "code",
   "execution_count": null,
   "outputs": [],
   "source": [
    "p=interactive(plot_picks_relion, \n",
    "              n=widgets.IntSlider(min=0, max=len(img_paths)-1, step=1, value=0), \n",
    "              r=(0.05,1,0.05),\n",
    "              rln_folder={'Images paths': data_folder},\n",
    "              score=widgets.IntRangeSlider(value=[0, 100]),\n",
    "              job_name={'Job': 'AutoPick/job011/'},\n",
    "             )\n",
    "\n",
    "display(p)\n",
    "\n",
    "plot_picks_relion(n=2, r=1, rln_folder=data_folder, score=[0,100], job_name='AutoPick/job011/')"
   ],
   "metadata": {
    "collapsed": false,
    "pycharm": {
     "name": "#%%\n"
    }
   }
  },
  {
   "cell_type": "markdown",
   "source": [
    "# Preview random extracted particles"
   ],
   "metadata": {
    "collapsed": false,
    "pycharm": {
     "name": "#%% md\n"
    }
   }
  },
  {
   "cell_type": "code",
   "execution_count": null,
   "outputs": [],
   "source": [
    "show_random_particles(data_folder, 'job012', blur=1)"
   ],
   "metadata": {
    "collapsed": false,
    "pycharm": {
     "name": "#%%\n"
    }
   }
  },
  {
   "cell_type": "markdown",
   "source": [
    "# Show 2D classification results"
   ],
   "metadata": {
    "collapsed": false,
    "pycharm": {
     "name": "#%% md\n"
    }
   }
  },
  {
   "cell_type": "code",
   "execution_count": null,
   "outputs": [],
   "source": [
    "run008 = class2d_run(data_folder, 'job008')\n",
    "\n",
    "run008.plot_all_classes(dpi=80)\n",
    "run008.plot_stats_dist()"
   ],
   "metadata": {
    "collapsed": false,
    "pycharm": {
     "name": "#%%\n"
    }
   }
  },
  {
   "cell_type": "markdown",
   "source": [
    "# Show selected classes"
   ],
   "metadata": {
    "collapsed": false,
    "pycharm": {
     "name": "#%% md\n"
    }
   }
  },
  {
   "cell_type": "code",
   "execution_count": null,
   "outputs": [],
   "source": [
    "plot_selected_classes(data_folder, 'job009')"
   ],
   "metadata": {
    "collapsed": false,
    "pycharm": {
     "name": "#%%\n"
    }
   }
  },
  {
   "cell_type": "markdown",
   "source": [
    "# Show 2D classification results"
   ],
   "metadata": {
    "collapsed": false,
    "pycharm": {
     "name": "#%% md\n"
    }
   }
  },
  {
   "cell_type": "code",
   "execution_count": null,
   "outputs": [],
   "source": [
    "run013 = class2d_run(data_folder, 'job013')\n",
    "\n",
    "run013.plot_all_classes(dpi=80)\n",
    "run013.plot_stats_dist()"
   ],
   "metadata": {
    "collapsed": false,
    "pycharm": {
     "name": "#%%\n"
    }
   }
  },
  {
   "cell_type": "markdown",
   "source": [
    "# Show selected 2D classes"
   ],
   "metadata": {
    "collapsed": false,
    "pycharm": {
     "name": "#%% md\n"
    }
   }
  },
  {
   "cell_type": "code",
   "execution_count": null,
   "outputs": [],
   "source": [
    "plot_selected_classes(data_folder, 'job014')"
   ],
   "metadata": {
    "collapsed": false,
    "pycharm": {
     "name": "#%%\n"
    }
   }
  },
  {
   "cell_type": "markdown",
   "source": [
    "# Show last 3D volume projection from Initial Model"
   ],
   "metadata": {
    "collapsed": false,
    "pycharm": {
     "name": "#%% md\n"
    }
   }
  },
  {
   "cell_type": "code",
   "execution_count": null,
   "outputs": [],
   "source": [
    "project_last_volume(data_folder+'InitialModel/job015/', '*class*', 1)"
   ],
   "metadata": {
    "collapsed": false,
    "pycharm": {
     "name": "#%%\n"
    }
   }
  },
  {
   "cell_type": "code",
   "execution_count": null,
   "outputs": [],
   "source": [
    "# Show 3D classification results"
   ],
   "metadata": {
    "collapsed": false,
    "pycharm": {
     "name": "#%%\n"
    }
   }
  },
  {
   "cell_type": "code",
   "execution_count": null,
   "outputs": [],
   "source": [
    "run016 = class3d_run(data_folder, 'job016', 4)\n",
    "run016.plot_all_classes()\n",
    "run016.plot_stats_dist()\n",
    "run016.plot_stats_res()\n",
    "run016.plot_angles()"
   ],
   "metadata": {
    "collapsed": false,
    "pycharm": {
     "name": "#%%\n"
    }
   }
  },
  {
   "cell_type": "markdown",
   "source": [
    "# Show mask"
   ],
   "metadata": {
    "collapsed": false,
    "pycharm": {
     "name": "#%% md\n"
    }
   }
  },
  {
   "cell_type": "code",
   "execution_count": null,
   "outputs": [],
   "source": [
    "project_last_volume(data_folder+'MaskCreate/job020/', '*mask*', 1)"
   ],
   "metadata": {
    "collapsed": false,
    "pycharm": {
     "name": "#%%\n"
    }
   }
  },
  {
   "cell_type": "markdown",
   "source": [
    "# Show Refine3D job results"
   ],
   "metadata": {
    "collapsed": false,
    "pycharm": {
     "name": "#%% md\n"
    }
   }
  },
  {
   "cell_type": "code",
   "execution_count": null,
   "outputs": [],
   "source": [
    "run019 = refine3d_run(data_folder, 'job019')\n",
    "run019.plot_all_classes()\n",
    "run019.plot_stats_res()\n",
    "run019.plot_angles()"
   ],
   "metadata": {
    "collapsed": false,
    "pycharm": {
     "name": "#%%\n"
    }
   }
  },
  {
   "cell_type": "markdown",
   "source": [
    "# Plot FSC and masked volume from PostProcess job"
   ],
   "metadata": {
    "collapsed": false,
    "pycharm": {
     "name": "#%% md\n"
    }
   }
  },
  {
   "cell_type": "code",
   "execution_count": null,
   "outputs": [],
   "source": [
    "plot_postprocess(data_folder, 'job021', dpi=100, res_ticks=(2.5, 3.0, 3.3, 4, 5, 7, 10, 20, 75))"
   ],
   "metadata": {
    "collapsed": false,
    "pycharm": {
     "name": "#%%\n"
    }
   }
  },
  {
   "cell_type": "code",
   "execution_count": null,
   "outputs": [],
   "source": [
    "project_last_volume(data_folder+'PostProcess/job021/', '*masked*', 1)"
   ],
   "metadata": {
    "collapsed": false,
    "pycharm": {
     "name": "#%%\n"
    }
   }
  },
  {
   "cell_type": "markdown",
   "source": [
    "# Show CtfRefine plots"
   ],
   "metadata": {
    "collapsed": false,
    "pycharm": {
     "name": "#%% md\n"
    }
   }
  },
  {
   "cell_type": "code",
   "execution_count": null,
   "outputs": [],
   "source": [
    "plot_ctf_refine(data_folder, 'job022')"
   ],
   "metadata": {
    "collapsed": false,
    "pycharm": {
     "name": "#%%\n"
    }
   }
  },
  {
   "cell_type": "code",
   "execution_count": null,
   "outputs": [],
   "source": [
    "plot_ctf_refine(data_folder, 'job023')"
   ],
   "metadata": {
    "collapsed": false,
    "pycharm": {
     "name": "#%%\n"
    }
   }
  },
  {
   "cell_type": "code",
   "execution_count": null,
   "outputs": [],
   "source": [
    "plot_ctf_refine(data_folder, 'job024', data_folder+'Refine3D/job019/run_data.star')"
   ],
   "metadata": {
    "collapsed": false,
    "pycharm": {
     "name": "#%%\n"
    }
   }
  },
  {
   "cell_type": "markdown",
   "source": [
    "# Plot new Refine3D results"
   ],
   "metadata": {
    "collapsed": false,
    "pycharm": {
     "name": "#%% md\n"
    }
   }
  },
  {
   "cell_type": "code",
   "execution_count": null,
   "outputs": [],
   "source": [
    "run025 = refine3d_run(data_folder, 'job025')\n",
    "run025.plot_all_classes()\n",
    "run025.plot_stats_res()\n",
    "run025.plot_angles()"
   ],
   "metadata": {
    "collapsed": false,
    "pycharm": {
     "name": "#%%\n"
    }
   }
  },
  {
   "cell_type": "code",
   "execution_count": null,
   "outputs": [],
   "source": [
    "plot_locres(data_folder, 'job031', mask_job='job020')"
   ],
   "metadata": {
    "collapsed": false,
    "pycharm": {
     "name": "#%%\n"
    }
   }
  },
  {
   "cell_type": "markdown",
   "source": [
    "# Plot final FSC"
   ],
   "metadata": {
    "collapsed": false,
    "pycharm": {
     "name": "#%% md\n"
    }
   }
  },
  {
   "cell_type": "code",
   "execution_count": null,
   "outputs": [],
   "source": [
    "plot_postprocess(data_folder, 'job030', dpi=100, res_ticks=(2.5, 3.0, 3.3, 4, 5, 7, 10, 20, 75))"
   ],
   "metadata": {
    "collapsed": false,
    "pycharm": {
     "name": "#%%\n"
    }
   }
  },
  {
   "cell_type": "code",
   "execution_count": null,
   "outputs": [],
   "source": [],
   "metadata": {
    "collapsed": false,
    "pycharm": {
     "name": "#%%\n"
    }
   }
  }
 ],
 "metadata": {
  "kernelspec": {
   "display_name": "Python 3 (ipykernel)",
   "language": "python",
   "name": "python3"
  },
  "language_info": {
   "codemirror_mode": {
    "name": "ipython",
    "version": 3
   },
   "file_extension": ".py",
   "mimetype": "text/x-python",
   "name": "python",
   "nbconvert_exporter": "python",
   "pygments_lexer": "ipython3",
   "version": "3.10.6"
  }
 },
 "nbformat": 4,
 "nbformat_minor": 5
}